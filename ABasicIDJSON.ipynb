{
 "cells": [
  {
   "cell_type": "code",
   "execution_count": 1,
   "id": "09be91a4",
   "metadata": {},
   "outputs": [
    {
     "name": "stdout",
     "output_type": "stream",
     "text": [
      "Welcome to JupyROOT 6.24/00\n"
     ]
    }
   ],
   "source": [
    "import gzip\n",
    "from correctionlib.schemav2 import CorrectionSet,Correction,Category,CategoryItem,Formula\n",
    "from itertools import chain\n",
    "import correctionlib.schemav2 as schema\n",
    "from JSONTools import *\n",
    "import pandas as pd\n",
    "import numpy as np"
   ]
  },
  {
   "cell_type": "code",
   "execution_count": 2,
   "id": "2a98e679",
   "metadata": {},
   "outputs": [],
   "source": [
    "from SandS_class import *"
   ]
  },
  {
   "cell_type": "code",
   "execution_count": 3,
   "id": "79bbf72c",
   "metadata": {},
   "outputs": [],
   "source": [
    "#years=[\"2017\",\"2018\",\"2016preVFP\",\"2016postVFP\"]\n",
    "years=[\"2016postVFP\"]\n",
    "folders=[\"2016postVFP_UL\"]\n",
    "gain=[1.0,6.0,12.0]"
   ]
  },
  {
   "cell_type": "code",
   "execution_count": 20,
   "id": "e12083a8",
   "metadata": {},
   "outputs": [
    {
     "name": "stdout",
     "output_type": "stream",
     "text": [
      "2016postVFP\n"
     ]
    }
   ],
   "source": [
    "for year,folder in zip(years,folders):\n",
    "    print(year)\n",
    "    corrs=[]\n",
    "    corr = Correction.parse_obj(\n",
    "        {\n",
    "            \"version\": 2,\n",
    "            \"name\": f'ID',\n",
    "            \"description\": \"yes\",\n",
    "            \"inputs\": [\n",
    "                {\"name\": \"valtype\",\"type\": \"string\", \"description\": \"correction (total_correction) or uncertainty (total_uncertainty)\"},\n",
    "                {\"name\": \"gain\",\"type\": \"real\", \"description\": \"seed gain\"},\n",
    "                {\"name\": \"eta\",\"type\": \"real\", \"description\": \"supercluster eta\"},\n",
    "                {\"name\": \"r9\", \"type\": \"real\", \"description\": \"r9\"},\n",
    "                {\"name\": \"et\", \"type\": \"real\", \"description\": \"et\"},],\n",
    "                #{\"name\": \"gain\", \"type\": \"real\", \"description\": \"gain\"},\n",
    "            \"output\": {\"name\": \"weight\", \"type\": \"real\", \"description\": \"value\"},\n",
    "            \"data\": Category.parse_obj({\n",
    "                \"nodetype\": \"category\",\n",
    "                \"input\": \"valtype\",\n",
    "                \"content\": [\n",
    "                    schema.CategoryItem.parse_obj({\n",
    "                        \"key\": valtype, \n",
    "                        \"value\": Formula(\n",
    "                    nodetype=\"formula\",\n",
    "                    variables=[\"gain\",\"eta\",\"r9\",\"et\"],\n",
    "                    parser=\"TFormula\",\n",
    "                    expression=\"0+((x<2)*(y<2.5)*(z<0.5)*(t<100))\",\n",
    "                ),\n",
    "                    })\n",
    "                    for valtype in [\"loose\",\"tight\"]\n",
    "                ]\n",
    "            })\n",
    "        })\n",
    "    corrs.append(corr)\n",
    "\n",
    "\n",
    "    #Save JSON\n",
    "    cset = CorrectionSet(schema_version=2, corrections=corrs,description=f\"These are the photon ID, Pixel veto and CSEV Scale Factors (nominal, up or down) for {year} Ultra Legacy dataset. Each kind of scale factors, depend on the chosen working point, some other quantities. More information is below! Please keep in the mind that if your analysis is sensitive to high pT photons (>500 GeV), please refer https://twiki.cern.ch/twiki/bin/view/CMS/EGMPhotonIDHighPtPhotons\")\n",
    "    with open(\"ID.json\", \"w\") as fout:\n",
    "        fout.write(cset.json(exclude_unset=True, indent=4))"
   ]
  },
  {
   "cell_type": "code",
   "execution_count": 21,
   "id": "56862a64",
   "metadata": {},
   "outputs": [],
   "source": [
    "from correctionlib import _core\n",
    "#Download the correct JSON files\n",
    "evaluator = _core.CorrectionSet.from_file('ID.json')"
   ]
  },
  {
   "cell_type": "code",
   "execution_count": 22,
   "id": "e3733d41",
   "metadata": {},
   "outputs": [
    {
     "data": {
      "text/plain": [
       "1.0"
      ]
     },
     "execution_count": 22,
     "metadata": {},
     "output_type": "execute_result"
    }
   ],
   "source": [
    "evaluator[\"ID\"].evaluate(\"loose\",1.0,2.0,0.2,99.0)"
   ]
  },
  {
   "cell_type": "code",
   "execution_count": 7,
   "id": "6242dbee",
   "metadata": {},
   "outputs": [
    {
     "data": {
      "text/plain": [
       "0.03054039389999999"
      ]
     },
     "execution_count": 7,
     "metadata": {},
     "output_type": "execute_result"
    }
   ],
   "source": [
    "evaluator[\"2016postVFP_ScaleJSON\"].evaluate(\"total_uncertainty\",1,284044.0,-2.5,0.5,100.0)"
   ]
  },
  {
   "cell_type": "code",
   "execution_count": 8,
   "id": "32083731",
   "metadata": {},
   "outputs": [],
   "source": [
    "from Scale_simplepython import *"
   ]
  },
  {
   "cell_type": "code",
   "execution_count": 9,
   "id": "583968f2",
   "metadata": {},
   "outputs": [
    {
     "name": "stdout",
     "output_type": "stream",
     "text": [
      "{13001}\n"
     ]
    },
    {
     "data": {
      "text/plain": [
       "1.0180131299999997"
      ]
     },
     "execution_count": 9,
     "metadata": {},
     "output_type": "execute_result"
    }
   ],
   "source": [
    "getsimplepythonScale(\"scale_nominal\", \"2016_postVFP\", 284044, 2.5, 0.45, 100, 1)"
   ]
  },
  {
   "cell_type": "code",
   "execution_count": 10,
   "id": "176cfd1c",
   "metadata": {},
   "outputs": [
    {
     "name": "stdout",
     "output_type": "stream",
     "text": [
      "{13001}\n"
     ]
    },
    {
     "data": {
      "text/plain": [
       "0.03054039389999999"
      ]
     },
     "execution_count": 10,
     "metadata": {},
     "output_type": "execute_result"
    }
   ],
   "source": [
    "getsimplepythonScale(\"scale_uncertainty\", \"2016_postVFP\", 284044, 2.5, 0.45, 100, 1)"
   ]
  },
  {
   "cell_type": "code",
   "execution_count": null,
   "id": "295dbd39",
   "metadata": {},
   "outputs": [],
   "source": []
  }
 ],
 "metadata": {
  "kernelspec": {
   "display_name": "Python 3 (ipykernel)",
   "language": "python",
   "name": "python3"
  },
  "language_info": {
   "codemirror_mode": {
    "name": "ipython",
    "version": 3
   },
   "file_extension": ".py",
   "mimetype": "text/x-python",
   "name": "python",
   "nbconvert_exporter": "python",
   "pygments_lexer": "ipython3",
   "version": "3.6.13"
  }
 },
 "nbformat": 4,
 "nbformat_minor": 5
}
